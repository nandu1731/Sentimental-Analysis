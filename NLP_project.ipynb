{
  "cells": [
    {
      "cell_type": "code",
      "execution_count": 1,
      "metadata": {
        "id": "SP6DmYiLZuzv",
        "colab": {
          "base_uri": "https://localhost:8080/"
        },
        "outputId": "b1c1c9c3-b225-4a28-87f7-f38684eccd0b"
      },
      "outputs": [
        {
          "output_type": "stream",
          "name": "stdout",
          "text": [
            "Mounted at /content/drive\n"
          ]
        }
      ],
      "source": [
        "from google.colab import drive\n",
        "drive.mount('/content/drive')"
      ],
      "id": "SP6DmYiLZuzv"
    },
    {
      "cell_type": "code",
      "source": [
        "cd '/content/drive/MyDrive'"
      ],
      "metadata": {
        "id": "Jv6H9I0d6Ze9",
        "outputId": "8f4248d5-3e95-47dc-9a28-ddb6666a24bc",
        "colab": {
          "base_uri": "https://localhost:8080/"
        }
      },
      "id": "Jv6H9I0d6Ze9",
      "execution_count": 2,
      "outputs": [
        {
          "output_type": "stream",
          "name": "stdout",
          "text": [
            "/content/drive/MyDrive\n"
          ]
        }
      ]
    },
    {
      "cell_type": "code",
      "source": [
        "ls"
      ],
      "metadata": {
        "id": "TShPbdHz6eNN"
      },
      "id": "TShPbdHz6eNN",
      "execution_count": null,
      "outputs": []
    },
    {
      "cell_type": "code",
      "execution_count": 4,
      "metadata": {
        "colab": {
          "base_uri": "https://localhost:8080/"
        },
        "id": "0f2a4735",
        "outputId": "6858272f-f18e-4ceb-88db-6ff7b3222bde"
      },
      "outputs": [
        {
          "output_type": "stream",
          "name": "stderr",
          "text": [
            "[nltk_data] Downloading package stopwords to /root/nltk_data...\n",
            "[nltk_data]   Unzipping corpora/stopwords.zip.\n"
          ]
        }
      ],
      "source": [
        "import os\n",
        "import re\n",
        "import nltk\n",
        "nltk.download('stopwords')\n",
        "from nltk.corpus import stopwords"
      ],
      "id": "0f2a4735"
    },
    {
      "cell_type": "code",
      "execution_count": 5,
      "metadata": {
        "id": "HiuS6RK1Oa21"
      },
      "outputs": [],
      "source": [
        "import pandas as pd\n",
        "import numpy as np\n",
        "import matplotlib.pyplot as plt\n",
        "import seaborn as sns\n",
        "import tensorflow as tf\n",
        "os.environ['TF_CPP_MIN_LOG_LEVEL'] = '2'\n",
        "tf.random.set_seed(0)\n",
        "\n",
        "from tensorflow.keras.preprocessing.text import Tokenizer\n",
        "from tensorflow.keras.preprocessing.sequence import pad_sequences\n",
        "from tensorflow.keras.models import Sequential\n",
        "from tensorflow.keras.layers import Dense, Embedding,Dropout\n",
        "from tensorflow.keras.layers import MaxPooling1D\n",
        "from tensorflow.keras.layers import  LSTM, Bidirectional\n",
        "from tensorflow.keras.layers import  Flatten\n",
        "from sklearn.model_selection import train_test_split\n",
        "from sklearn.preprocessing import LabelBinarizer\n",
        "from tensorflow.keras.optimizers import Adam\n",
        "from tensorflow.keras.callbacks import EarlyStopping, ModelCheckpoint\n",
        "from sklearn import metrics"
      ],
      "id": "HiuS6RK1Oa21"
    },
    {
      "cell_type": "code",
      "execution_count": 6,
      "metadata": {
        "id": "06c6b6f1"
      },
      "outputs": [],
      "source": [
        "data = pd.read_csv(\"normalized_data.csv\")"
      ],
      "id": "06c6b6f1"
    },
    {
      "cell_type": "code",
      "execution_count": 7,
      "metadata": {
        "colab": {
          "base_uri": "https://localhost:8080/",
          "height": 206
        },
        "id": "0d515c4f",
        "outputId": "e12079e3-3d6b-4f5a-a0f5-bf868a429bf6"
      },
      "outputs": [
        {
          "output_type": "execute_result",
          "data": {
            "text/plain": [
              "                                             comment label\n",
              "0              we need mr chari 's review on master    NTL\n",
              "1  worst government . #ysrcp chala cheta ga parip...   NEG\n",
              "2  baya nuvu emina chepu kani bagoledu ani chepak...   NEG\n",
              "3  gadini vadilesi manchi pani chesaru @rcbtweets 👍    POS\n",
              "4  i came to watch thyview 's review crying after...   POS"
            ],
            "text/html": [
              "\n",
              "  <div id=\"df-07c9ef3b-b10f-47f3-8637-791f3327e4df\">\n",
              "    <div class=\"colab-df-container\">\n",
              "      <div>\n",
              "<style scoped>\n",
              "    .dataframe tbody tr th:only-of-type {\n",
              "        vertical-align: middle;\n",
              "    }\n",
              "\n",
              "    .dataframe tbody tr th {\n",
              "        vertical-align: top;\n",
              "    }\n",
              "\n",
              "    .dataframe thead th {\n",
              "        text-align: right;\n",
              "    }\n",
              "</style>\n",
              "<table border=\"1\" class=\"dataframe\">\n",
              "  <thead>\n",
              "    <tr style=\"text-align: right;\">\n",
              "      <th></th>\n",
              "      <th>comment</th>\n",
              "      <th>label</th>\n",
              "    </tr>\n",
              "  </thead>\n",
              "  <tbody>\n",
              "    <tr>\n",
              "      <th>0</th>\n",
              "      <td>we need mr chari 's review on master</td>\n",
              "      <td>NTL</td>\n",
              "    </tr>\n",
              "    <tr>\n",
              "      <th>1</th>\n",
              "      <td>worst government . #ysrcp chala cheta ga parip...</td>\n",
              "      <td>NEG</td>\n",
              "    </tr>\n",
              "    <tr>\n",
              "      <th>2</th>\n",
              "      <td>baya nuvu emina chepu kani bagoledu ani chepak...</td>\n",
              "      <td>NEG</td>\n",
              "    </tr>\n",
              "    <tr>\n",
              "      <th>3</th>\n",
              "      <td>gadini vadilesi manchi pani chesaru @rcbtweets 👍</td>\n",
              "      <td>POS</td>\n",
              "    </tr>\n",
              "    <tr>\n",
              "      <th>4</th>\n",
              "      <td>i came to watch thyview 's review crying after...</td>\n",
              "      <td>POS</td>\n",
              "    </tr>\n",
              "  </tbody>\n",
              "</table>\n",
              "</div>\n",
              "      <button class=\"colab-df-convert\" onclick=\"convertToInteractive('df-07c9ef3b-b10f-47f3-8637-791f3327e4df')\"\n",
              "              title=\"Convert this dataframe to an interactive table.\"\n",
              "              style=\"display:none;\">\n",
              "        \n",
              "  <svg xmlns=\"http://www.w3.org/2000/svg\" height=\"24px\"viewBox=\"0 0 24 24\"\n",
              "       width=\"24px\">\n",
              "    <path d=\"M0 0h24v24H0V0z\" fill=\"none\"/>\n",
              "    <path d=\"M18.56 5.44l.94 2.06.94-2.06 2.06-.94-2.06-.94-.94-2.06-.94 2.06-2.06.94zm-11 1L8.5 8.5l.94-2.06 2.06-.94-2.06-.94L8.5 2.5l-.94 2.06-2.06.94zm10 10l.94 2.06.94-2.06 2.06-.94-2.06-.94-.94-2.06-.94 2.06-2.06.94z\"/><path d=\"M17.41 7.96l-1.37-1.37c-.4-.4-.92-.59-1.43-.59-.52 0-1.04.2-1.43.59L10.3 9.45l-7.72 7.72c-.78.78-.78 2.05 0 2.83L4 21.41c.39.39.9.59 1.41.59.51 0 1.02-.2 1.41-.59l7.78-7.78 2.81-2.81c.8-.78.8-2.07 0-2.86zM5.41 20L4 18.59l7.72-7.72 1.47 1.35L5.41 20z\"/>\n",
              "  </svg>\n",
              "      </button>\n",
              "      \n",
              "  <style>\n",
              "    .colab-df-container {\n",
              "      display:flex;\n",
              "      flex-wrap:wrap;\n",
              "      gap: 12px;\n",
              "    }\n",
              "\n",
              "    .colab-df-convert {\n",
              "      background-color: #E8F0FE;\n",
              "      border: none;\n",
              "      border-radius: 50%;\n",
              "      cursor: pointer;\n",
              "      display: none;\n",
              "      fill: #1967D2;\n",
              "      height: 32px;\n",
              "      padding: 0 0 0 0;\n",
              "      width: 32px;\n",
              "    }\n",
              "\n",
              "    .colab-df-convert:hover {\n",
              "      background-color: #E2EBFA;\n",
              "      box-shadow: 0px 1px 2px rgba(60, 64, 67, 0.3), 0px 1px 3px 1px rgba(60, 64, 67, 0.15);\n",
              "      fill: #174EA6;\n",
              "    }\n",
              "\n",
              "    [theme=dark] .colab-df-convert {\n",
              "      background-color: #3B4455;\n",
              "      fill: #D2E3FC;\n",
              "    }\n",
              "\n",
              "    [theme=dark] .colab-df-convert:hover {\n",
              "      background-color: #434B5C;\n",
              "      box-shadow: 0px 1px 3px 1px rgba(0, 0, 0, 0.15);\n",
              "      filter: drop-shadow(0px 1px 2px rgba(0, 0, 0, 0.3));\n",
              "      fill: #FFFFFF;\n",
              "    }\n",
              "  </style>\n",
              "\n",
              "      <script>\n",
              "        const buttonEl =\n",
              "          document.querySelector('#df-07c9ef3b-b10f-47f3-8637-791f3327e4df button.colab-df-convert');\n",
              "        buttonEl.style.display =\n",
              "          google.colab.kernel.accessAllowed ? 'block' : 'none';\n",
              "\n",
              "        async function convertToInteractive(key) {\n",
              "          const element = document.querySelector('#df-07c9ef3b-b10f-47f3-8637-791f3327e4df');\n",
              "          const dataTable =\n",
              "            await google.colab.kernel.invokeFunction('convertToInteractive',\n",
              "                                                     [key], {});\n",
              "          if (!dataTable) return;\n",
              "\n",
              "          const docLinkHtml = 'Like what you see? Visit the ' +\n",
              "            '<a target=\"_blank\" href=https://colab.research.google.com/notebooks/data_table.ipynb>data table notebook</a>'\n",
              "            + ' to learn more about interactive tables.';\n",
              "          element.innerHTML = '';\n",
              "          dataTable['output_type'] = 'display_data';\n",
              "          await google.colab.output.renderOutput(dataTable, element);\n",
              "          const docLink = document.createElement('div');\n",
              "          docLink.innerHTML = docLinkHtml;\n",
              "          element.appendChild(docLink);\n",
              "        }\n",
              "      </script>\n",
              "    </div>\n",
              "  </div>\n",
              "  "
            ]
          },
          "metadata": {},
          "execution_count": 7
        }
      ],
      "source": [
        "data.head()"
      ],
      "id": "0d515c4f"
    },
    {
      "cell_type": "code",
      "execution_count": 8,
      "metadata": {
        "colab": {
          "base_uri": "https://localhost:8080/"
        },
        "id": "b10dc889",
        "outputId": "8d8ae347-6c30-4a60-f814-103cf31d8992"
      },
      "outputs": [
        {
          "output_type": "execute_result",
          "data": {
            "text/plain": [
              "(19868, 2)"
            ]
          },
          "metadata": {},
          "execution_count": 8
        }
      ],
      "source": [
        "data.shape"
      ],
      "id": "b10dc889"
    },
    {
      "cell_type": "code",
      "execution_count": 9,
      "metadata": {
        "id": "2f7af149"
      },
      "outputs": [],
      "source": [
        "stop_words = set(stopwords.words('english'))\n",
        "\n",
        "def preprocessor(sentence):\n",
        "    sentence = sentence.lower()\n",
        "    sentence = re.sub('[^A-Za-z0-9]+', ' ', sentence).split()\n",
        "    sentence = \" \".join([i for i in sentence if not i in stop_words])\n",
        "    return sentence\n",
        "\n"
      ],
      "id": "2f7af149"
    },
    {
      "cell_type": "code",
      "execution_count": 10,
      "metadata": {
        "colab": {
          "base_uri": "https://localhost:8080/"
        },
        "id": "54hyN89uHc6t",
        "outputId": "394becf2-8aad-4167-ab4e-8b2eed006624"
      },
      "outputs": [
        {
          "output_type": "stream",
          "name": "stdout",
          "text": [
            "179\n"
          ]
        }
      ],
      "source": [
        "print(len(stop_words))"
      ],
      "id": "54hyN89uHc6t"
    },
    {
      "cell_type": "code",
      "execution_count": 11,
      "metadata": {
        "id": "49ddd0e1"
      },
      "outputs": [],
      "source": [
        "data.comment = data.comment.apply(preprocessor)"
      ],
      "id": "49ddd0e1"
    },
    {
      "cell_type": "code",
      "execution_count": 12,
      "metadata": {
        "colab": {
          "base_uri": "https://localhost:8080/",
          "height": 206
        },
        "id": "264af887",
        "outputId": "10fea4be-d4f4-48fb-c69a-bccbd3623804"
      },
      "outputs": [
        {
          "output_type": "execute_result",
          "data": {
            "text/plain": [
              "                                             comment label\n",
              "0                        need mr chari review master   NTL\n",
              "1  worst government ysrcp chala cheta ga paripala...   NEG\n",
              "2  baya nuvu emina chepu kani bagoledu ani chepak...   NEG\n",
              "3      gadini vadilesi manchi pani chesaru rcbtweets   POS\n",
              "4  came watch thyview review crying watching dil ...   POS"
            ],
            "text/html": [
              "\n",
              "  <div id=\"df-ed75595c-2676-4fa5-b952-9e1405f48f33\">\n",
              "    <div class=\"colab-df-container\">\n",
              "      <div>\n",
              "<style scoped>\n",
              "    .dataframe tbody tr th:only-of-type {\n",
              "        vertical-align: middle;\n",
              "    }\n",
              "\n",
              "    .dataframe tbody tr th {\n",
              "        vertical-align: top;\n",
              "    }\n",
              "\n",
              "    .dataframe thead th {\n",
              "        text-align: right;\n",
              "    }\n",
              "</style>\n",
              "<table border=\"1\" class=\"dataframe\">\n",
              "  <thead>\n",
              "    <tr style=\"text-align: right;\">\n",
              "      <th></th>\n",
              "      <th>comment</th>\n",
              "      <th>label</th>\n",
              "    </tr>\n",
              "  </thead>\n",
              "  <tbody>\n",
              "    <tr>\n",
              "      <th>0</th>\n",
              "      <td>need mr chari review master</td>\n",
              "      <td>NTL</td>\n",
              "    </tr>\n",
              "    <tr>\n",
              "      <th>1</th>\n",
              "      <td>worst government ysrcp chala cheta ga paripala...</td>\n",
              "      <td>NEG</td>\n",
              "    </tr>\n",
              "    <tr>\n",
              "      <th>2</th>\n",
              "      <td>baya nuvu emina chepu kani bagoledu ani chepak...</td>\n",
              "      <td>NEG</td>\n",
              "    </tr>\n",
              "    <tr>\n",
              "      <th>3</th>\n",
              "      <td>gadini vadilesi manchi pani chesaru rcbtweets</td>\n",
              "      <td>POS</td>\n",
              "    </tr>\n",
              "    <tr>\n",
              "      <th>4</th>\n",
              "      <td>came watch thyview review crying watching dil ...</td>\n",
              "      <td>POS</td>\n",
              "    </tr>\n",
              "  </tbody>\n",
              "</table>\n",
              "</div>\n",
              "      <button class=\"colab-df-convert\" onclick=\"convertToInteractive('df-ed75595c-2676-4fa5-b952-9e1405f48f33')\"\n",
              "              title=\"Convert this dataframe to an interactive table.\"\n",
              "              style=\"display:none;\">\n",
              "        \n",
              "  <svg xmlns=\"http://www.w3.org/2000/svg\" height=\"24px\"viewBox=\"0 0 24 24\"\n",
              "       width=\"24px\">\n",
              "    <path d=\"M0 0h24v24H0V0z\" fill=\"none\"/>\n",
              "    <path d=\"M18.56 5.44l.94 2.06.94-2.06 2.06-.94-2.06-.94-.94-2.06-.94 2.06-2.06.94zm-11 1L8.5 8.5l.94-2.06 2.06-.94-2.06-.94L8.5 2.5l-.94 2.06-2.06.94zm10 10l.94 2.06.94-2.06 2.06-.94-2.06-.94-.94-2.06-.94 2.06-2.06.94z\"/><path d=\"M17.41 7.96l-1.37-1.37c-.4-.4-.92-.59-1.43-.59-.52 0-1.04.2-1.43.59L10.3 9.45l-7.72 7.72c-.78.78-.78 2.05 0 2.83L4 21.41c.39.39.9.59 1.41.59.51 0 1.02-.2 1.41-.59l7.78-7.78 2.81-2.81c.8-.78.8-2.07 0-2.86zM5.41 20L4 18.59l7.72-7.72 1.47 1.35L5.41 20z\"/>\n",
              "  </svg>\n",
              "      </button>\n",
              "      \n",
              "  <style>\n",
              "    .colab-df-container {\n",
              "      display:flex;\n",
              "      flex-wrap:wrap;\n",
              "      gap: 12px;\n",
              "    }\n",
              "\n",
              "    .colab-df-convert {\n",
              "      background-color: #E8F0FE;\n",
              "      border: none;\n",
              "      border-radius: 50%;\n",
              "      cursor: pointer;\n",
              "      display: none;\n",
              "      fill: #1967D2;\n",
              "      height: 32px;\n",
              "      padding: 0 0 0 0;\n",
              "      width: 32px;\n",
              "    }\n",
              "\n",
              "    .colab-df-convert:hover {\n",
              "      background-color: #E2EBFA;\n",
              "      box-shadow: 0px 1px 2px rgba(60, 64, 67, 0.3), 0px 1px 3px 1px rgba(60, 64, 67, 0.15);\n",
              "      fill: #174EA6;\n",
              "    }\n",
              "\n",
              "    [theme=dark] .colab-df-convert {\n",
              "      background-color: #3B4455;\n",
              "      fill: #D2E3FC;\n",
              "    }\n",
              "\n",
              "    [theme=dark] .colab-df-convert:hover {\n",
              "      background-color: #434B5C;\n",
              "      box-shadow: 0px 1px 3px 1px rgba(0, 0, 0, 0.15);\n",
              "      filter: drop-shadow(0px 1px 2px rgba(0, 0, 0, 0.3));\n",
              "      fill: #FFFFFF;\n",
              "    }\n",
              "  </style>\n",
              "\n",
              "      <script>\n",
              "        const buttonEl =\n",
              "          document.querySelector('#df-ed75595c-2676-4fa5-b952-9e1405f48f33 button.colab-df-convert');\n",
              "        buttonEl.style.display =\n",
              "          google.colab.kernel.accessAllowed ? 'block' : 'none';\n",
              "\n",
              "        async function convertToInteractive(key) {\n",
              "          const element = document.querySelector('#df-ed75595c-2676-4fa5-b952-9e1405f48f33');\n",
              "          const dataTable =\n",
              "            await google.colab.kernel.invokeFunction('convertToInteractive',\n",
              "                                                     [key], {});\n",
              "          if (!dataTable) return;\n",
              "\n",
              "          const docLinkHtml = 'Like what you see? Visit the ' +\n",
              "            '<a target=\"_blank\" href=https://colab.research.google.com/notebooks/data_table.ipynb>data table notebook</a>'\n",
              "            + ' to learn more about interactive tables.';\n",
              "          element.innerHTML = '';\n",
              "          dataTable['output_type'] = 'display_data';\n",
              "          await google.colab.output.renderOutput(dataTable, element);\n",
              "          const docLink = document.createElement('div');\n",
              "          docLink.innerHTML = docLinkHtml;\n",
              "          element.appendChild(docLink);\n",
              "        }\n",
              "      </script>\n",
              "    </div>\n",
              "  </div>\n",
              "  "
            ]
          },
          "metadata": {},
          "execution_count": 12
        }
      ],
      "source": [
        "data.head()"
      ],
      "id": "264af887"
    },
    {
      "cell_type": "code",
      "source": [
        "def convert(l):\n",
        "  if l ==\"NTL\":\n",
        "    return 1.0\n",
        "  elif l==\"NEG\":\n",
        "    return 0.0\n",
        "  else:\n",
        "    return 2.0"
      ],
      "metadata": {
        "id": "asJoiFXE7UBA"
      },
      "id": "asJoiFXE7UBA",
      "execution_count": 13,
      "outputs": []
    },
    {
      "cell_type": "code",
      "source": [
        "data.label = data.label.apply(convert)"
      ],
      "metadata": {
        "id": "F0VqVI6K7ivu"
      },
      "id": "F0VqVI6K7ivu",
      "execution_count": 14,
      "outputs": []
    },
    {
      "cell_type": "code",
      "execution_count": 15,
      "metadata": {
        "colab": {
          "base_uri": "https://localhost:8080/"
        },
        "id": "V3-pRCqMpyLO",
        "outputId": "640a81de-8256-460c-8235-9735e3f6ffbb"
      },
      "outputs": [
        {
          "output_type": "execute_result",
          "data": {
            "text/plain": [
              "array([1., 0., 2.])"
            ]
          },
          "metadata": {},
          "execution_count": 15
        }
      ],
      "source": [
        "np.array(data.label.unique())"
      ],
      "id": "V3-pRCqMpyLO"
    },
    {
      "cell_type": "code",
      "execution_count": 16,
      "metadata": {
        "id": "bgd9q1A1m6vy"
      },
      "outputs": [],
      "source": [
        "os.environ['TF_CPP_MIN_LOG_LEVEL'] = '2'\n",
        "tf.random.set_seed(0)\n"
      ],
      "id": "bgd9q1A1m6vy"
    },
    {
      "cell_type": "code",
      "execution_count": 17,
      "metadata": {
        "id": "xPiXdtxInD0x"
      },
      "outputs": [],
      "source": [
        "vocab_size = 1000 \n",
        "embedding_dim = 512\n",
        "max_len = 300\n",
        "\n",
        "batch_size=128\n",
        "epochs=20\n",
        "\n",
        "tokenizer = Tokenizer(num_words=vocab_size, oov_token=\"<OOV>\", lower=True)\n",
        "binarizer = LabelBinarizer()"
      ],
      "id": "xPiXdtxInD0x"
    },
    {
      "cell_type": "code",
      "execution_count": 18,
      "metadata": {
        "id": "rJChkBWFnMBX"
      },
      "outputs": [],
      "source": [
        "def bi_lstm():\n",
        "    model = Sequential()\n",
        "    model.add(Embedding(input_dim=vocab_size, output_dim=embedding_dim, input_length=max_len))\n",
        "    model.add(Bidirectional(LSTM(512, return_sequences=True)))\n",
        "    model.add(Bidirectional(LSTM(256)))\n",
        "    model.add(Dropout(0.3))\n",
        "    model.add(Dense(3, activation='softmax'))\n",
        "    model.compile(loss='categorical_crossentropy', optimizer=Adam(0.0001), metrics='accuracy')\n",
        "    return model\n"
      ],
      "id": "rJChkBWFnMBX"
    },
    {
      "cell_type": "code",
      "execution_count": 19,
      "metadata": {
        "id": "XUiKLcoqnP2D"
      },
      "outputs": [],
      "source": [
        "# Plot history:\n",
        "def plot_history(history):\n",
        "    plt.figure()\n",
        "    plt.plot(history.history['loss'], label='training data')\n",
        "    plt.plot(history.history['val_loss'], label='validation data')\n",
        "    plt.title('LOSS')\n",
        "    plt.ylabel('Loss')\n",
        "    plt.xlabel('No. epoch')\n",
        "    plt.legend(loc=\"upper left\")\n",
        "\n",
        "    # Plot history: Acc\n",
        "\n",
        "    plt.figure()\n",
        "    plt.plot(history.history['accuracy'], label='training data')\n",
        "    plt.plot(history.history['val_accuracy'], label='validation data')\n",
        "    plt.title('ACCURACY')\n",
        "    plt.ylabel('Accuracy')\n",
        "    plt.xlabel('No. epoch')\n",
        "    plt.legend(loc=\"upper left\")\n",
        "    plt.show()\n",
        "\n",
        "\n",
        "def evaluate_model(trained_model, y_test_true):\n",
        "    y_test_preds = trained_model.predict(x_test)\n",
        "    y_test_preds = np.argmax(y_test_preds, axis=1)\n",
        "    y_test_preds = np.where(y_test_preds == 0, 0,y_test_preds)\n",
        "    y_test_preds = np.where(y_test_preds == 1, 1, y_test_preds)\n",
        "    y_test_preds = np.where(y_test_preds == 2, 2, y_test_preds)\n",
        "    print(metrics.classification_report(y_test_true, y_test_preds))\n",
        "\n",
        "    cm = metrics.confusion_matrix(y_test_true, y_test_preds, normalize='true')\n",
        "    sns.heatmap(cm, annot=True, cbar=None, cmap='viridis')\n",
        "    plt.show()"
      ],
      "id": "XUiKLcoqnP2D"
    },
    {
      "cell_type": "code",
      "source": [
        "\n",
        "labels = data.label.tolist()"
      ],
      "metadata": {
        "id": "FN7187so7x2o"
      },
      "id": "FN7187so7x2o",
      "execution_count": 24,
      "outputs": []
    },
    {
      "cell_type": "code",
      "source": [
        "sentences = data.comment.tolist()"
      ],
      "metadata": {
        "id": "y2x1GFCR70jB"
      },
      "id": "y2x1GFCR70jB",
      "execution_count": 26,
      "outputs": []
    },
    {
      "cell_type": "code",
      "source": [
        "_ = tokenizer.fit_on_texts(sentences)"
      ],
      "metadata": {
        "id": "ZT0s4_BC75bU"
      },
      "id": "ZT0s4_BC75bU",
      "execution_count": 28,
      "outputs": []
    },
    {
      "cell_type": "code",
      "source": [
        "sequences = tokenizer.texts_to_sequences(sentences)"
      ],
      "metadata": {
        "id": "gVMBUu9k8MxD"
      },
      "id": "gVMBUu9k8MxD",
      "execution_count": 32,
      "outputs": []
    },
    {
      "cell_type": "code",
      "source": [
        "sequences"
      ],
      "metadata": {
        "id": "ZqcSaOpU8e_9"
      },
      "id": "ZqcSaOpU8e_9",
      "execution_count": null,
      "outputs": []
    },
    {
      "cell_type": "code",
      "execution_count": 20,
      "metadata": {
        "id": "c8d28a36"
      },
      "outputs": [],
      "source": [
        "\n",
        "labels = data.label.tolist()\n",
        "sentences = data.comment.tolist()\n",
        "_ = tokenizer.fit_on_texts(sentences)\n",
        "sequences = tokenizer.texts_to_sequences(sentences)\n",
        "padded_sequences = pad_sequences(sequences, padding='post', maxlen=max_len)\n",
        "\n",
        "x_train, x_test, y_train, y_test = train_test_split(\n",
        "    padded_sequences, labels, stratify=labels, test_size=0.2, random_state=101)\n",
        "\n",
        "y_test_true = y_test.copy()\n",
        "\n",
        "y_train = binarizer.fit_transform(y_train)\n",
        "y_test = binarizer.transform(y_test)"
      ],
      "id": "c8d28a36"
    },
    {
      "cell_type": "code",
      "source": [
        "y_train = binarizer.fit_transform(y_train)"
      ],
      "metadata": {
        "id": "ZYttiriJ9nQK"
      },
      "id": "ZYttiriJ9nQK",
      "execution_count": 34,
      "outputs": []
    },
    {
      "cell_type": "code",
      "source": [
        "y_train"
      ],
      "metadata": {
        "colab": {
          "base_uri": "https://localhost:8080/"
        },
        "id": "_AMKmuH99nyT",
        "outputId": "f2af5b9c-7060-4940-d10b-ff0eae52a45b"
      },
      "id": "_AMKmuH99nyT",
      "execution_count": 35,
      "outputs": [
        {
          "output_type": "execute_result",
          "data": {
            "text/plain": [
              "array([[1, 0, 0],\n",
              "       [1, 0, 0],\n",
              "       [0, 0, 1],\n",
              "       ...,\n",
              "       [0, 1, 0],\n",
              "       [0, 0, 1],\n",
              "       [0, 0, 1]])"
            ]
          },
          "metadata": {},
          "execution_count": 35
        }
      ]
    },
    {
      "cell_type": "code",
      "execution_count": 21,
      "metadata": {
        "colab": {
          "base_uri": "https://localhost:8080/"
        },
        "id": "l5LwooSqIckR",
        "outputId": "c35dbd00-a94d-4d1b-87d5-b111acec68d4"
      },
      "outputs": [
        {
          "output_type": "execute_result",
          "data": {
            "text/plain": [
              "((15894, 300), (3974, 300))"
            ]
          },
          "metadata": {},
          "execution_count": 21
        }
      ],
      "source": [
        "x_train.shape, x_test.shape"
      ],
      "id": "l5LwooSqIckR"
    },
    {
      "cell_type": "code",
      "execution_count": 36,
      "metadata": {
        "colab": {
          "base_uri": "https://localhost:8080/"
        },
        "id": "iwH3EJtcp8cD",
        "outputId": "36c76ba2-6b89-4917-c4c4-d3ba63fb7397"
      },
      "outputs": [
        {
          "output_type": "execute_result",
          "data": {
            "text/plain": [
              "array([0, 1, 2])"
            ]
          },
          "metadata": {},
          "execution_count": 36
        }
      ],
      "source": [
        "binarizer.classes_"
      ],
      "id": "iwH3EJtcp8cD"
    },
    {
      "cell_type": "code",
      "execution_count": 22,
      "metadata": {
        "id": "7xbXO5I5O1Sl"
      },
      "outputs": [],
      "source": [],
      "id": "7xbXO5I5O1Sl"
    },
    {
      "cell_type": "code",
      "execution_count": 23,
      "metadata": {
        "id": "i9pQMPD_nhhb",
        "colab": {
          "base_uri": "https://localhost:8080/",
          "height": 1000
        },
        "outputId": "7948be3a-34b0-4635-e925-752621d10ecb"
      },
      "outputs": [
        {
          "output_type": "stream",
          "name": "stdout",
          "text": [
            "Epoch 1/20\n",
            "125/125 [==============================] - 78s 536ms/step - loss: 0.9343 - accuracy: 0.5263 - val_loss: 0.8720 - val_accuracy: 0.5571\n",
            "Epoch 2/20\n",
            "125/125 [==============================] - 71s 568ms/step - loss: 0.6280 - accuracy: 0.7225 - val_loss: 0.5670 - val_accuracy: 0.7496\n",
            "Epoch 3/20\n",
            "125/125 [==============================] - 72s 575ms/step - loss: 0.5086 - accuracy: 0.7808 - val_loss: 0.5396 - val_accuracy: 0.7662\n",
            "Epoch 4/20\n",
            "125/125 [==============================] - 73s 588ms/step - loss: 0.4799 - accuracy: 0.7941 - val_loss: 0.5309 - val_accuracy: 0.7733\n",
            "Epoch 5/20\n",
            "125/125 [==============================] - 72s 573ms/step - loss: 0.4637 - accuracy: 0.8013 - val_loss: 0.5249 - val_accuracy: 0.7781\n",
            "Epoch 6/20\n",
            "125/125 [==============================] - 71s 566ms/step - loss: 0.4545 - accuracy: 0.8075 - val_loss: 0.5289 - val_accuracy: 0.7730\n",
            "Epoch 7/20\n",
            "125/125 [==============================] - 71s 567ms/step - loss: 0.4481 - accuracy: 0.8119 - val_loss: 0.5404 - val_accuracy: 0.7698\n",
            "Epoch 8/20\n",
            "125/125 [==============================] - 71s 565ms/step - loss: 0.4419 - accuracy: 0.8143 - val_loss: 0.5421 - val_accuracy: 0.7592\n"
          ]
        },
        {
          "output_type": "display_data",
          "data": {
            "text/plain": [
              "<Figure size 432x288 with 1 Axes>"
            ],
            "image/png": "[encoded data removed]"
          },
          "metadata": {
            "needs_background": "light"
          }
        },
        {
          "output_type": "display_data",
          "data": {
            "text/plain": [
              "<Figure size 432x288 with 1 Axes>"
            ],
            "image/png": "[encoded data removed]"
          },
          "metadata": {
            "needs_background": "light"
          }
        },
        {
          "output_type": "stream",
          "name": "stdout",
          "text": [
            "              precision    recall  f1-score   support\n",
            "\n",
            "         0.0       0.88      0.78      0.83      1544\n",
            "         1.0       0.57      0.73      0.64       844\n",
            "         2.0       0.79      0.75      0.77      1586\n",
            "\n",
            "    accuracy                           0.76      3974\n",
            "   macro avg       0.74      0.76      0.75      3974\n",
            "weighted avg       0.78      0.76      0.76      3974\n",
            "\n"
          ]
        },
        {
          "output_type": "display_data",
          "data": {
            "text/plain": [
              "<Figure size 432x288 with 1 Axes>"
            ],
            "image/png": "[encoded data removed]"
          },
          "metadata": {
            "needs_background": "light"
          }
        }
      ],
      "source": [
        "bi_lstm_model = bi_lstm()\n",
        "checkpoint_path=\"bi_lstm_model.h5\"\n",
        "keras_callbacks   = [\n",
        "      EarlyStopping(monitor='val_loss', patience=3, mode='min', min_delta=0.0001),\n",
        "      ModelCheckpoint(checkpoint_path, monitor='val_loss', save_best_only=True, mode='min')\n",
        "]\n",
        "history = bi_lstm_model.fit(\n",
        "    x_train, y_train, batch_size=batch_size, epochs=20, validation_data=(x_test, y_test), callbacks=keras_callbacks)\n",
        "\n",
        "plot_history(history)\n",
        "\n",
        "evaluate_model(bi_lstm_model, y_test_true)"
      ],
      "id": "i9pQMPD_nhhb"
    },
    {
      "cell_type": "code",
      "source": [
        "y_test_preds = bi_lstm_model.predict(x_test)"
      ],
      "metadata": {
        "id": "p7UBVSgQ3pNw"
      },
      "id": "p7UBVSgQ3pNw",
      "execution_count": 43,
      "outputs": []
    },
    {
      "cell_type": "code",
      "source": [
        "y_test_preds"
      ],
      "metadata": {
        "colab": {
          "base_uri": "https://localhost:8080/"
        },
        "id": "dMdrjWK5AQWI",
        "outputId": "db5f863f-65bf-40ab-cc8a-0a867bdaae9d"
      },
      "id": "dMdrjWK5AQWI",
      "execution_count": 38,
      "outputs": [
        {
          "output_type": "execute_result",
          "data": {
            "text/plain": [
              "array([[0.00216554, 0.00421141, 0.9936231 ],\n",
              "       [0.00320666, 0.00592178, 0.9908716 ],\n",
              "       [0.2650661 , 0.5020729 , 0.23286107],\n",
              "       ...,\n",
              "       [0.17264628, 0.57225496, 0.25509876],\n",
              "       [0.07403021, 0.41545644, 0.51051337],\n",
              "       [0.11238707, 0.64515007, 0.24246286]], dtype=float32)"
            ]
          },
          "metadata": {},
          "execution_count": 38
        }
      ]
    },
    {
      "cell_type": "code",
      "source": [
        "y_test_preds = np.argmax(y_test_preds, axis=1)"
      ],
      "metadata": {
        "id": "2mti7aUTAM-5"
      },
      "id": "2mti7aUTAM-5",
      "execution_count": 44,
      "outputs": []
    },
    {
      "cell_type": "code",
      "source": [
        "print(metrics.classification_report(y_test_true, y_test_preds))"
      ],
      "metadata": {
        "colab": {
          "base_uri": "https://localhost:8080/"
        },
        "id": "G0733jYZBGiL",
        "outputId": "0647073d-2293-474e-9510-07723271bb9f"
      },
      "id": "G0733jYZBGiL",
      "execution_count": 45,
      "outputs": [
        {
          "output_type": "stream",
          "name": "stdout",
          "text": [
            "              precision    recall  f1-score   support\n",
            "\n",
            "         0.0       0.88      0.78      0.83      1544\n",
            "         1.0       0.57      0.73      0.64       844\n",
            "         2.0       0.79      0.75      0.77      1586\n",
            "\n",
            "    accuracy                           0.76      3974\n",
            "   macro avg       0.74      0.76      0.75      3974\n",
            "weighted avg       0.78      0.76      0.76      3974\n",
            "\n"
          ]
        }
      ]
    },
    {
      "cell_type": "code",
      "source": [],
      "metadata": {
        "id": "lR5ZzQp0BIPr"
      },
      "id": "lR5ZzQp0BIPr",
      "execution_count": null,
      "outputs": []
    }
  ],
  "metadata": {
    "accelerator": "GPU",
    "colab": {
      "collapsed_sections": [],
      "provenance": []
    },
    "gpuClass": "standard",
    "kernelspec": {
      "display_name": "Python 3 (ipykernel)",
      "language": "python",
      "name": "python3"
    },
    "language_info": {
      "codemirror_mode": {
        "name": "ipython",
        "version": 3
      },
      "file_extension": ".py",
      "mimetype": "text/x-python",
      "name": "python",
      "nbconvert_exporter": "python",
      "pygments_lexer": "ipython3",
      "version": "3.8.10"
    }
  },
  "nbformat": 4,
  "nbformat_minor": 5
}